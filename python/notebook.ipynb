{
 "cells": [
  {
   "cell_type": "code",
   "execution_count": 1,
   "metadata": {},
   "outputs": [],
   "source": [
    "import csv"
   ]
  },
  {
   "cell_type": "code",
   "execution_count": 2,
   "outputs": [],
   "source": [
    "def ebi_2_run_acc(ebi_id):\n",
    "    req = \"https://www.ebi.ac.uk/ena/portal/api/filereport?accession=\" + ebi_id + \"&result=read_run&fields=run_accession\"\n",
    "    r = requests.get(req)\n",
    "    run_acc_temp = r.text\n",
    "    run_acc = run_acc_temp.replace(\"run_accession\\n\", \"\")\n",
    "    return run_acc"
   ],
   "metadata": {
    "collapsed": false,
    "pycharm": {
     "name": "#%%\n"
    }
   }
  },
  {
   "cell_type": "code",
   "execution_count": 4,
   "outputs": [],
   "source": [
    "def clean_csv(in_file,out_file,sep_clean=\",\",sep=\";\"):\n",
    "    with open(\"SRAlist/\" + in_file, 'r') as SRAfile:\n",
    "        line = SRAfile.readline().replace(\"\\n\",\"\")\n",
    "        with open(\"SRAlist/\" + out_file, 'w', newline='', encoding='utf-8') as out:\n",
    "            writer = csv.writer(out, delimiter=sep)\n",
    "\n",
    "            dict_raw = line.split(sep)\n",
    "            dict_raw[0] = \"Run_accession\"\n",
    "            writer.writerow(dict_raw)\n",
    "\n",
    "\n",
    "\n",
    "            while line != \"\":\n",
    "                line = SRAfile.readline().replace(\"\\n\",\"\")\n",
    "\n",
    "                dict_raw = line.split(sep)\n",
    "                id_raw = dict_raw[0]\n",
    "                id = id_raw.split(sep_clean)\n",
    "\n",
    "                for id_unique in id:\n",
    "                    dict_raw[0] = id_unique\n",
    "                    writer.writerow(dict_raw)\n",
    "\n",
    "\n"
   ],
   "metadata": {
    "collapsed": false,
    "pycharm": {
     "name": "#%%\n"
    }
   }
  },
  {
   "cell_type": "code",
   "execution_count": 6,
   "metadata": {
    "pycharm": {
     "name": "#%%\n"
    }
   },
   "outputs": [],
   "source": [
    "\n",
    "clean_csv(\"3651ref.csv\", \"3651ref_clean.csv\")"
   ]
  },
  {
   "cell_type": "code",
   "execution_count": null,
   "metadata": {},
   "outputs": [],
   "source": []
  }
 ],
 "metadata": {
  "kernelspec": {
   "display_name": "Python 3 (ipykernel)",
   "language": "python",
   "name": "python3"
  },
  "language_info": {
   "codemirror_mode": {
    "name": "ipython",
    "version": 3
   },
   "file_extension": ".py",
   "mimetype": "text/x-python",
   "name": "python",
   "nbconvert_exporter": "python",
   "pygments_lexer": "ipython3",
   "version": "3.9.5"
  }
 },
 "nbformat": 4,
 "nbformat_minor": 1
}